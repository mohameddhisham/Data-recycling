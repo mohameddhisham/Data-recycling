{
 "cells": [
  {
   "cell_type": "code",
   "execution_count": null,
   "id": "f20cb40c-83c0-4d56-88b5-085f8af2448c",
   "metadata": {},
   "outputs": [],
   "source": [
    "# recycling data\n",
    "import os\n",
    "import glob\n",
    "import pandas as pd\n",
    "\n",
    "# Directory containing the tab-delimited files\n",
    "input_directory = r\"C:\\Users\\Desktop\\RE-folder\\notepads\"\n",
    "\n",
    "# Output directory for CSV files\n",
    "output_directory = r\"C:\\Users\\Desktop\\RE-folder\\data\"\n",
    "\n",
    "# Read all tab-delimited files in the directory\n",
    "filenames = glob.glob(os.path.join(input_directory, \"*.txt\"))\n",
    "\n",
    "# Check if any .txt files are read\n",
    "if not filenames:\n",
    "    print(\"No .txt files found in the directory.\")\n",
    "else:\n",
    "    # Combine all the files into a single DataFrame\n",
    "    dfs = []\n",
    "    for file in filenames:\n",
    "        try:\n",
    "            df = pd.read_csv(file, sep='\\t', dtype={'postal_code': str, 'phone_number': str}, \n",
    "                             low_memory=False, on_bad_lines='skip', encoding='ISO-8859-1')\n",
    "            df2 = df[df['status'].isin(['AA'])]\n",
    "            df3 = df2[['phone_number', 'postal_code']]\n",
    "            dfs.append(df3)\n",
    "        except pd.errors.ParserError as e:\n",
    "            print(f\"Error parsing {file}: {e}\")\n",
    "        except UnicodeDecodeError as e:\n",
    "            print(f\"Encoding error in {file}: {e}\")\n",
    "        except Exception as e:\n",
    "            print(f\"An unexpected error occurred with {file}: {e}\")\n",
    "\n",
    "    if dfs:\n",
    "        combined_df = pd.concat(dfs, ignore_index=True)\n",
    "\n",
    "        # Ensure state column is treated as string and handle missing values\n",
    "        combined_df['state'] = combined_df['state'].astype(str).fillna('Unknown')\n",
    "\n",
    "        # Split the data by state and save to CSV files\n",
    "        states = combined_df['state'].unique()\n",
    "\n",
    "        for state in states:\n",
    "            state_df = combined_df[combined_df['state'] == state]\n",
    "\n",
    "            # Ensure the output directory includes the state name for generalization\n",
    "            state_output_directory = os.path.join(output_directory)\n",
    "            os.makedirs(state_output_directory, exist_ok=True)\n",
    "            output_filename = os.path.join(state_output_directory, f'FILTERED-{state}.csv')\n",
    "            state_df.to_csv(output_filename, index=False)\n",
    "            print(f'Saved to {output_filename}')\n",
    "    else:\n",
    "        print(\"No valid dataframes were created from the files.\")\n"
   ]
  }
 ],
 "metadata": {
  "kernelspec": {
   "display_name": "Python 3 (ipykernel)",
   "language": "python",
   "name": "python3"
  },
  "language_info": {
   "codemirror_mode": {
    "name": "ipython",
    "version": 3
   },
   "file_extension": ".py",
   "mimetype": "text/x-python",
   "name": "python",
   "nbconvert_exporter": "python",
   "pygments_lexer": "ipython3",
   "version": "3.11.7"
  }
 },
 "nbformat": 4,
 "nbformat_minor": 5
}
